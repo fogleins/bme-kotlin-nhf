{
 "cells": [
  {
   "cell_type": "code",
   "execution_count": 1,
   "id": "043f1988-7047-4a4b-bc30-e803ba10bd14",
   "metadata": {},
   "outputs": [],
   "source": [
    "var asd = \"hello Kotlin\""
   ]
  },
  {
   "cell_type": "code",
   "execution_count": 2,
   "id": "1a065bce-1b61-43cc-9fc6-4e44859c5b1e",
   "metadata": {},
   "outputs": [
    {
     "name": "stdout",
     "output_type": "stream",
     "text": [
      "hello Kotlin\n"
     ]
    }
   ],
   "source": [
    "println(asd)"
   ]
  }
 ],
 "metadata": {
  "kernelspec": {
   "display_name": "Kotlin",
   "language": "kotlin",
   "name": "kotlin"
  },
  "language_info": {
   "codemirror_mode": "text/x-kotlin",
   "file_extension": ".kt",
   "mimetype": "text/x-kotlin",
   "name": "kotlin",
   "nbconvert_exporter": "",
   "pygments_lexer": "kotlin",
   "version": "1.8.20"
  }
 },
 "nbformat": 4,
 "nbformat_minor": 5
}
